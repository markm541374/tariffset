{
 "metadata": {
  "name": ""
 },
 "nbformat": 3,
 "nbformat_minor": 0,
 "worksheets": [
  {
   "cells": [
    {
     "cell_type": "code",
     "collapsed": false,
     "input": [
      "%pylab inline\n",
      "import scipy as sp\n",
      "import numpy as sp\n",
      "from matplotlib import pyplot as plt\n",
      "import operator"
     ],
     "language": "python",
     "metadata": {},
     "outputs": [
      {
       "output_type": "stream",
       "stream": "stdout",
       "text": [
        "Populating the interactive namespace from numpy and matplotlib\n"
       ]
      }
     ],
     "prompt_number": 1
    },
    {
     "cell_type": "code",
     "collapsed": false,
     "input": [
      "#minute since 0 to tarif block index\n",
      "def m2b(m):\n",
      "    b=int(m/30)\n",
      "    return b\n",
      "#block index to minutes since 0 at start\n",
      "def b2m(b):\n",
      "    m=b*30\n",
      "    return m"
     ],
     "language": "python",
     "metadata": {},
     "outputs": [],
     "prompt_number": 2
    },
    {
     "cell_type": "code",
     "collapsed": false,
     "input": [
      "class agent:\n",
      "    def __init__(self):\n",
      "        #init the agent with its goals\n",
      "        return\n",
      "    def inform_tariff(self):\n",
      "        #informs the agent of a new tariff\n",
      "        return\n",
      "    def get_profile_block(self):\n",
      "        #find the power/cost profile the agent is going to use in time blocks\n",
      "        return\n",
      "    def get_profile_m(self):\n",
      "        #find the /minute power use profile\n",
      "        return\n",
      "    def get_total(self):\n",
      "        #find the total power/cost the agent will use\n",
      "        return"
     ],
     "language": "python",
     "metadata": {},
     "outputs": [],
     "prompt_number": 3
    },
    {
     "cell_type": "code",
     "collapsed": false,
     "input": [
      "#create an agent with a randomized shiftable static load\n",
      "class random_SSL_agent(agent):\n",
      "    def __init__(self,t0,uf,lv,ld):\n",
      "        #time the event is created\n",
      "        #self.t0=10*60\n",
      "        self.t0 = t0\n",
      "        #deferal utility factor\n",
      "        self.uf = uf\n",
      "        #load value\n",
      "        self.lv = lv\n",
      "        #self.lv=2\n",
      "        #load duration (m)\n",
      "        self.ld = ld\n",
      "        #self.ld=60\n",
      "        #total energy (kJ)\n",
      "        self.tE = self.ld*self.lv*60.\n",
      "        return\n",
      "    \n",
      "    def inform_tariff(self,T):\n",
      "        self.T=T\n",
      "        self.schedule()\n",
      "        return\n",
      "    \n",
      "    def get_profile_m(self):\n",
      "        p = [0.]*24*60\n",
      "        for i in range(self.opt_ts,self.opt_ts+self.ld):\n",
      "            p[i]=self.lv\n",
      "        return p\n",
      "    \n",
      "    def schedule(self):\n",
      "        best = [-sp.Inf,-1]\n",
      "        for i in range(int(self.t0),int(24*60-self.ld)):\n",
      "            u = self.evaluate_u(i)\n",
      "            if u>best[0]:\n",
      "                best=[u,i]\n",
      "        self.opt_ts = best[1]\n",
      "        return best[1]\n",
      "    \n",
      "    def evaluate_u(self,ts):\n",
      "        \n",
      "        if ts<self.t0:\n",
      "            return -sp.Inf\n",
      "        ld=self.ld\n",
      "        lv=self.lv\n",
      "        T=self.T\n",
      "        #finish time\n",
      "        tf = ts+ld\n",
      "        if tf>=24*60:\n",
      "            return sp.Inf\n",
      "        #partial first block\n",
      "        T0 = T[m2b(ts)]\n",
      "        ts1 = b2m(m2b(ts)+1)\n",
      "        \n",
      "        initC = (ts1-ts)*T0*lv/60.\n",
      "        #partial final block\n",
      "        TF = T[m2b(tf)]\n",
      "        tf1 = b2m(m2b(tf))\n",
      "        finC = (tf-tf1)*TF*lv/60.\n",
      "        #centre if more than a full block hour\n",
      "        Ccenter = sum(T[m2b(ts)+1:m2b(tf)])*lv*30/60.\n",
      "        \n",
      "        tC=(initC+Ccenter+finC)\n",
      "        delayU=-self.uf*abs(ts-self.t0)\n",
      "        \n",
      "        return delayU-tC"
     ],
     "language": "python",
     "metadata": {},
     "outputs": [],
     "prompt_number": 4
    },
    {
     "cell_type": "code",
     "collapsed": false,
     "input": [
      "class agent_collection():\n",
      "    def __init__(self):\n",
      "        self.A = []\n",
      "        for i in range(75):\n",
      "            #agents have a single load with start time from a gamma distribution 5,1 hours and a utility cost of deferal/hour from uniform 0.2,2. The load has duration from uniform 30/180 min and value uniform 0.5,1.5 units power.\n",
      "            t0=60*sp.random.gamma(6,1)\n",
      "            uf = (1./60)#*sp.random.uniform(0.2,2.0)\n",
      "            lv = sp.random.uniform(0.5,1.5)\n",
      "            ld = int(sp.random.uniform(30,180))\n",
      "            \n",
      "            self.A.append(random_SSL_agent(t0,uf,lv,ld))\n",
      "        return\n",
      "    \n",
      "    def inform_tariff(self,T):\n",
      "        for a in self.A:\n",
      "            a.inform_tariff(T)\n",
      "        return\n",
      "    \n",
      "    def get_profile_m(self):\n",
      "        acc=[0]*(24*60)\n",
      "        for a in self.A:\n",
      "            pr = a.get_profile_m()\n",
      "            acc=map(operator.add,acc,pr)\n",
      "        return acc\n",
      "    "
     ],
     "language": "python",
     "metadata": {},
     "outputs": [],
     "prompt_number": 58
    },
    {
     "cell_type": "code",
     "collapsed": false,
     "input": [
      "T1=[10+1*sp.sin(((i)/48.)*2*sp.pi)for i in range(48)]\n",
      "T0=[10]*48\n",
      "T2=[10+2*2*((abs((((i-11)%48)-24)/24.)**2.)-0.5) for i in range(48)]\n",
      "\n",
      "\n",
      "\n",
      "C = agent_collection()\n",
      "\n",
      "C.inform_tariff(T0)\n",
      "acc0=C.get_profile_m()\n",
      "\n",
      "\n",
      "C.inform_tariff(T1)\n",
      "acc1=C.get_profile_m()\n",
      "\n",
      "\n",
      "C.inform_tariff(T2)\n",
      "acc2=C.get_profile_m()\n",
      "\n",
      "\n",
      "plt.figure(figsize=(12,12))\n",
      "\n",
      "plt.plot([f(i)/2. for i in range(48) for f in (lambda x:x,lambda x:x+0.999)],[i for i in T0 for Null in (1,1)],'b')\n",
      "plt.plot([i/60. for i in range(24*60)],acc0,'r')\n",
      "\n",
      "#plt.plot([f(i)/2. for i in range(48) for f in (lambda x:x,lambda x:x+0.999)],[i for i in T1 for Null in (1,1)],'b')\n",
      "#plt.plot([i/60. for i in range(24*60)],acc1,'c')\n",
      "\n",
      "plt.plot([f(i)/2. for i in range(48) for f in (lambda x:x,lambda x:x+0.999)],[i for i in T2 for Null in (1,1)],'b')\n",
      "plt.plot([i/60. for i in range(24*60)],acc2,'g')\n",
      "#print a.opt_ts/60.\n",
      "\n"
     ],
     "language": "python",
     "metadata": {},
     "outputs": [
      {
       "metadata": {},
       "output_type": "pyout",
       "prompt_number": 59,
       "text": [
        "[<matplotlib.lines.Line2D at 0xd293610>]"
       ]
      },
      {
       "metadata": {},
       "output_type": "display_data",
       "png": "[encoded data removed]",
       "text": [
        "<matplotlib.figure.Figure at 0x9697a90>"
       ]
      }
     ],
     "prompt_number": 59
    },
    {
     "cell_type": "code",
     "collapsed": false,
     "input": [],
     "language": "python",
     "metadata": {},
     "outputs": []
    },
    {
     "cell_type": "code",
     "collapsed": false,
     "input": [],
     "language": "python",
     "metadata": {},
     "outputs": [],
     "prompt_number": 81
    },
    {
     "cell_type": "code",
     "collapsed": false,
     "input": [],
     "language": "python",
     "metadata": {},
     "outputs": [],
     "prompt_number": 88
    },
    {
     "cell_type": "code",
     "collapsed": false,
     "input": [],
     "language": "python",
     "metadata": {},
     "outputs": [],
     "prompt_number": 88
    },
    {
     "cell_type": "code",
     "collapsed": false,
     "input": [],
     "language": "python",
     "metadata": {},
     "outputs": []
    }
   ],
   "metadata": {}
  }
 ]
}